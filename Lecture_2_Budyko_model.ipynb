{
 "cells": [
  {
   "cell_type": "markdown",
   "id": "f458d863",
   "metadata": {},
   "source": [
    "## Catchment Hydrology, MSc course\n",
    "### Lecture 2: Budyko water balance models\n",
    "#### Wouter R. Berghuijs (w.r.berghuijs@vu.nl)\n",
    "\n",
    "In this notebook you will use the Budyko water balance model to estimate and describe how the long-term average water balance of a catchment behaves under particular climate conditions. "
   ]
  },
  {
   "cell_type": "code",
   "execution_count": 1,
   "id": "f635b4bc",
   "metadata": {},
   "outputs": [],
   "source": [
    "# Import some packages to run Python\n",
    "import numpy as np\n",
    "import ipywidgets"
   ]
  },
  {
   "cell_type": "markdown",
   "id": "b5e709b7",
   "metadata": {},
   "source": [
    "### Potential evaporation\n",
    "\n",
    "**Potential evaporation** is defined as the amount of evaporation that would\n",
    "occur if a sufficient water source were available. Several formulas exist to estimate it.\n",
    "We will use a simple example that is only based on temperature (Eq. 2B4.2 of Dingman):\n",
    "$$E_p = 1.2 \\cdot 10^{10} \\cdot \\text{exp}(-4620/T)     \\text{          (mm/y)}$$ \n",
    "where $T$ = mean temperature (K). \n",
    "\n",
    "\n",
    "Note that this is a highly simplified formula, and in the course ecohydrology (and also in the BSc course Introduction to Hydrology) you will discussed more physically based formula's such as Penman-Monteith. In reality, potential evaporation will depend on a wider range of factors such as wind speed, humiditity, and radiation. However, ignoring these, and solely using temperature can give a first-order estimate of potential evaporation.\n",
    "\n",
    "**Aridity** (dimensionless) is defined as the ratio of long-term and long-term potential evaporation ($E_p$) precipitation:\n",
    "$$Aridity = E_p / P$$\n",
    "where $P$ is the multi-year mean **precipitation** (mm/y) and $E_p$ is the multi-year **potential\n",
    "evaporation** (mm/y). Thus, if aridity is smaller than one, it means there is more rain than potential evaporation (think for example of the west coast of Norway, because it is cold and and has a lot of rain). In contrast, high aridity values that are much larger than one reflect drier and/or warmer places (think for example of the Sahara desert, because it has almost no rain, and is warm).\n",
    "\n",
    "\n"
   ]
  },
  {
   "cell_type": "markdown",
   "id": "c3d0b7d5",
   "metadata": {},
   "source": [
    "### Calculate potential evaporation\n",
    "To get some feel for what typical long-term average values of potential evaporation are, we calculate potential evaporation based on Eq. 2B4.2 of Dingman (also shown above). You can calculate this for a temperature of your choice by sliding the bar below."
   ]
  },
  {
   "cell_type": "code",
   "execution_count": 2,
   "id": "16e18de6",
   "metadata": {},
   "outputs": [
    {
     "data": {
      "application/vnd.jupyter.widget-view+json": {
       "model_id": "36a2edcad4f44d929e4a26b681fd4f4a",
       "version_major": 2,
       "version_minor": 0
      },
      "text/plain": [
       "interactive(children=(FloatSlider(value=10.0, description='Temperature', max=30.0, min=-10.0), Output()), _dom…"
      ]
     },
     "metadata": {},
     "output_type": "display_data"
    },
    {
     "data": {
      "text/plain": [
       "<function __main__.pot_evap(Temperature)>"
      ]
     },
     "execution_count": 2,
     "metadata": {},
     "output_type": "execute_result"
    }
   ],
   "source": [
    "# Potential evaporation based on temperature\n",
    "\n",
    "def pot_evap(Temperature):\n",
    "    T = 272.15+Temperature # Convert to Kelvin\n",
    "    E_p = 1.2*10**10 * np.exp(-4620/T) # Calculate potential evaporation\n",
    "    print(\"when the annual mean temperature is \" + str(Temperature) + ' (Celsius)') #print value\n",
    "    print(\"potential evaporation is \" + str(int(E_p)) + ' (mm/y)') #print outcome\n",
    "    \n",
    "ipywidgets.interact(pot_evap,Temperature =(-10 , 30, 0.1))"
   ]
  },
  {
   "cell_type": "markdown",
   "id": "3a86f71f",
   "metadata": {},
   "source": [
    "### Estimate aridity\n",
    "If we now also  indicate how much precipitation there is in an particular area, we can estimate aridity."
   ]
  },
  {
   "cell_type": "code",
   "execution_count": 3,
   "id": "d6d41048",
   "metadata": {},
   "outputs": [
    {
     "data": {
      "application/vnd.jupyter.widget-view+json": {
       "model_id": "cb95fb86751d43aba19ec75b206d11e6",
       "version_major": 2,
       "version_minor": 0
      },
      "text/plain": [
       "interactive(children=(IntSlider(value=1000, description='Precipitation', max=2000, step=10), IntSlider(value=1…"
      ]
     },
     "metadata": {},
     "output_type": "display_data"
    },
    {
     "data": {
      "text/plain": [
       "<function __main__.aridity(Precipitation, Pot_Evap)>"
      ]
     },
     "execution_count": 3,
     "metadata": {},
     "output_type": "execute_result"
    }
   ],
   "source": [
    "# Provide rainfall\n",
    "\n",
    "def aridity(Precipitation, Pot_Evap):\n",
    "    AI = Pot_Evap/Precipitation # Calculate potential evaporation\n",
    "    print(\"For P is \" + str(int(Precipitation)) + ' (mm/y)' + \n",
    "          \"and E_p is \" + str(int(Pot_Evap)) + ' (mm/y):') #print outcome\n",
    "\n",
    "\n",
    "    print(\"Aridity is \" + str(float(AI)) + ' (dimensionless)') #print outcome\n",
    "    \n",
    "ipywidgets.interact(aridity, Precipitation =(0 ,2000, 10),Pot_Evap=(0 ,2000, 10))"
   ]
  },
  {
   "cell_type": "markdown",
   "id": "9676c60f",
   "metadata": {},
   "source": [
    "**Question 1: How much is the mean annual potential evaporation in the Netherlands, ?**\n",
    "\n",
    "**Question 2: What is the aridity index of the Netherlands?**\n",
    "\n",
    "**Question 3: How would both values change if temperature rises by 2 degrees Celsius?**"
   ]
  },
  {
   "cell_type": "markdown",
   "id": "f8646fcb",
   "metadata": {},
   "source": [
    "## How much streamflow would one expect based on Budyko?\n",
    "How much the mean annual streamflow of a catchment is, depends on many factors. However, as we have seen in today's class, most of the between-catchment differences in the long-term water balance is determined by climate aridity. Budyko [1974] describes this global relationship as: \n",
    "$$E/P =  [E_p/P  \\text{  tanh}⁡(P/E_p )(1-\\text{exp}(-E_p/P)) ]^{1/2}$$\n",
    "where $P$ is mean annual precipitation, $E$ is mean annual evapotranspiration, and $E_p$ is mean potential evaporation.\n",
    "\n",
    "The Budyko curve (i.e. Eq. above) captures roughly 90% of the between catchment differences in evaporative fractions (this differences in how much of $P$ becomes $E$ versus $Q$) across over a thousand European catchments [Budyko, 1951]. The evidence of a strong universal relationship between aridity and the evaporative fraction has grown since, as more recent data also tend to show a relatively strong relation between aridity versus evaporative fractions and runoff ratios for many more catchments globally [e.g. Zhang et al., 2001; Potter et al., 2005; Trancoso et al., 2016; Padrón et al., 2017; Gnann et al., 2019]. To illustrate how catchments tend to fall near the Budyko curve, we here show long-term water balances from 410 catchments of the US MOPEX dataset [Duan et al., 2006] (Fig. 1; Spearman $\\rho$ = 0.83). The strong relationship between aridity and the evaporative fraction (and runoff ratio) forms the basis of nearly all studies that use the Budyko framework. "
   ]
  },
  {
   "cell_type": "markdown",
   "id": "60be1677",
   "metadata": {},
   "source": [
    "**Figure: The Budyko framework.** The x-axis contains the aridity index ($E_p/P$) and the y-axis the evaporative fraction ($E/P$), which often is approximated by one minus the runoff ratio ($E/P = 1-Q/P$) because storage changes are assumed to be negligible at multi-year timescales. Together, these two axes form the two-dimensional Budyko space. Catchments within the space should theoretically fall below the supply limit ($E/P = 1$) and the demand limit ($E/E_p = 1$), but tend to approach these limits under very arid or very wet conditions. Many catchments around the world fall around the Budyko curve (black solid line), including the long-term average date of 410 catchments located in the USA which are indicated by blue markers (**Source figure**: Berghuijs et al. [2020])"
   ]
  },
  {
   "cell_type": "markdown",
   "id": "64eab173",
   "metadata": {},
   "source": [
    "**Question 4: Why does evaporation not exceed the demand and supply limits depicted in the Figure above?**\n",
    "\n",
    "\n",
    "## Estimated streamflow and evaporation based on the Budyko curve\n",
    "Let's pick climate values (e.g., the values we filled in above) and use these to estimate how much streamflow (per unit area) we expect. You can do this by adjusting the aridity and the total precipitation "
   ]
  },
  {
   "cell_type": "code",
   "execution_count": 4,
   "id": "3803fdb3",
   "metadata": {
    "scrolled": true
   },
   "outputs": [
    {
     "data": {
      "application/vnd.jupyter.widget-view+json": {
       "model_id": "9e443c0269a64c98847f220cfc7ee1b1",
       "version_major": 2,
       "version_minor": 0
      },
      "text/plain": [
       "interactive(children=(FloatSlider(value=1.2000000000000002, description='AI', max=2.5), IntSlider(value=1000, …"
      ]
     },
     "metadata": {},
     "output_type": "display_data"
    },
    {
     "data": {
      "text/plain": [
       "<function __main__.Evap_fraction(AI, P)>"
      ]
     },
     "execution_count": 4,
     "metadata": {},
     "output_type": "execute_result"
    }
   ],
   "source": [
    "# Use Budyko's equation, fill in the aridity to determine the evaporation fraction (E/P)\n",
    "def Evap_fraction(AI, P):\n",
    "    EP = ((AI *np.tanh(1/AI))*(1-np.exp(-AI)))**(0.5)\n",
    "    # Write out this evaporative fraction\n",
    "    print('For the chosen aridity (dimensionless) and precipitation (mm/y)')\n",
    "    print(\"the fraction of P that becomes E is \" + str(EP))\n",
    "\n",
    "    # Write out runoff ratio (which is Q/P = 1/E/P)\n",
    "    print(\"and the fraction of P that becomes Q is \" + str(1-EP))\n",
    "\n",
    "    # Multiply by P to get total flow rate in mm/y\n",
    "    print(\"The annual flow rate is expected to be around \" + str(int((1-EP)*P)) + \" (mm/y)\")\n",
    "\n",
    "ipywidgets.interact(Evap_fraction, AI  = (0 ,2.5, 0.1), P =(0 ,2000, 10))"
   ]
  },
  {
   "cell_type": "markdown",
   "id": "08ebc1f1",
   "metadata": {},
   "source": [
    "**Question 5: On average, what fraction of precipitation becomes streamflow when aridity is one?**\n",
    "\n",
    "**Question 6: How much higher and lower does this fraction become when a place becomes twice as arid, or twice as wet?**"
   ]
  },
  {
   "cell_type": "markdown",
   "id": "4fd1929a",
   "metadata": {},
   "source": [
    "## Answers \n",
    "\n",
    "**Question 1: How much is the mean annual potential evaporation in the Netherlands?**\n",
    "\n",
    "The mean temperature in NL is around 10-11 degrees Celsius in recent years. This mean that potential evaporation (according to the formula given above) is roughly 928-984 mm per pear. Let's take the average of ~950 mm per year.\n",
    "\n",
    "**Question 2: What is the aridity index of the Netherlands?**\n",
    "\n",
    "Annual precipitation in NL is approximately 850 mm per year. We already determined potential evaporation at ~950mm per year. Thus the ardity index of NL would be 950/850 = 1.1. \n",
    "\n",
    "**Question 3: How would both values change if temperature rises by 2 degrees Celsius?**\n",
    "\n",
    "Increasing the temperature by 2 degrees Celsius increases potential evaporation by just over 10% according to the provided formula. For example, 10 --> 12 degrees Celsius would be 928 --> 1042 mm per year of potential evaporation, whereas 11 --> 13 degrees would be  984 --> 1103 mm per year of potential evaporation. As a consequence the aridity index would also become just over 10% larger.\n",
    "\n",
    "**Question 4: Why does evaporation not exceed the demand and supply limits depicted in the Figure above?**\n",
    "\n",
    "\n",
    "At multi-year timescales, the amount of water leaving a catchment is restricted by how much water is supplied to the catchment (over that same period). The supply of water to a catchment equals precipitation. The amount of water leaving the catchment is the sum of streamflow and evaporation. Thus evaporation will not exceed precipitation (unless other water sources are present, or storage in the catchment is strongly depleted). Evaporation also cannot exceed the amount of energy that is available for evaporation (i.e. potential evaporation). Thus the demand limit can also not be exceeded. \n",
    "\n",
    "**Question 5: On average, what fraction of precipitation becomes streamflow when aridity is one?**\n",
    "\n",
    "For an aridity index of 1, the fraction of P that becomes E is 0.69 according to Budyko's formula. Thus, in these cases most precipitation will never reach the stream and will be evaporated instead.\n",
    "\n",
    "**Question 6: How much higher and lower does this fraction become when a place becomes twice as arid, or twice as wet?**\n",
    "\n",
    "If it becomes twice as wet (i.e. the aridity becomes 0.5) the fraction of P that becomes E is 0.44. Thus in this case (we'd expect) just over half of precipitation to become streamflow.\n",
    "\n",
    "If it becomes twice and arid (i.e. the aridity becomes 2) the fraction of P that becomes E is 0.89. In this case only 11% of precipitation is expected to end up in streams and instead the vasty majority of precipitation (~90%) will be evaporated back to the atmosphere. "
   ]
  }
 ],
 "metadata": {
  "kernelspec": {
   "display_name": "Python 3 (ipykernel)",
   "language": "python",
   "name": "python3"
  },
  "language_info": {
   "codemirror_mode": {
    "name": "ipython",
    "version": 3
   },
   "file_extension": ".py",
   "mimetype": "text/x-python",
   "name": "python",
   "nbconvert_exporter": "python",
   "pygments_lexer": "ipython3",
   "version": "3.9.7"
  }
 },
 "nbformat": 4,
 "nbformat_minor": 5
}
